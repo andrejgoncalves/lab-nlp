{
 "cells": [
  {
   "cell_type": "markdown",
   "metadata": {},
   "source": [
    "# Challenge 2: Sentiment Analysis\n",
    "\n",
    "In this challenge we will learn sentiment analysis and practice performing sentiment analysis on Twitter tweets. \n",
    "\n",
    "## Introduction\n",
    "\n",
    "Sentiment analysis is to *systematically identify, extract, quantify, and study affective states and subjective information* based on texts ([reference](https://en.wikipedia.org/wiki/Sentiment_analysis)). In simple words, it's to understand whether a person is happy or unhappy in producing the piece of text. Why we (or rather, companies) care about sentiment in texts? It's because by understanding the sentiments in texts, we will be able to know if our customers are happy or unhappy about our products and services. If they are unhappy, the subsequent action is to figure out what have caused the unhappiness and make improvements.\n",
    "\n",
    "Basic sentiment analysis only understands the *positive* or *negative* (sometimes *neutral* too) polarities of the sentiment. More advanced sentiment analysis will also consider dimensions such as agreement, subjectivity, confidence, irony, and so on. In this challenge we will conduct the basic positive vs negative sentiment analysis based on real Twitter tweets.\n",
    "\n",
    "NLTK comes with a [sentiment analysis package](https://www.nltk.org/api/nltk.sentiment.html). This package is great for dummies to perform sentiment analysis because it requires only the textual data to make predictions. For example:\n",
    "\n",
    "```python\n",
    ">>> from nltk.sentiment.vader import SentimentIntensityAnalyzer\n",
    ">>> txt = \"Ironhack is a Global Tech School ranked num 2 worldwide.  ",
    " ",
    "Our mission is to help people transform their careers and join a thriving community of tech professionals that love what they do.\"\n",
    ">>> analyzer = SentimentIntensityAnalyzer()\n",
    ">>> analyzer.polarity_scores(txt)\n",
    "{'neg': 0.0, 'neu': 0.741, 'pos': 0.259, 'compound': 0.8442}\n",
    "```\n",
    "\n",
    "In this challenge, however, you will not use NLTK's sentiment analysis package because in your Machine Learning training in the past 2 weeks you have learned how to make predictions more accurate than that. The [tweets data](https://www.kaggle.com/kazanova/sentiment140) we will be using today are already coded for the positive/negative sentiment. You will be able to use the Naïve Bayes classifier you learned in the lesson to predict the sentiment of tweets based on the labels."
   ]
  },
  {
   "cell_type": "markdown",
   "metadata": {},
   "source": [
    "## Conducting Sentiment Analysis\n",
    "\n",
    "### Loading and Exploring Data\n",
    "\n",
    "The dataset we'll be using today is located on Kaggle (https://www.kaggle.com/kazanova/sentiment140). Once you have downloaded and imported the dataset, it you will need to define the columns names: df.columns = ['target','id','date','flag','user','text']\n",
    "\n",
    "*Notes:* \n",
    "\n",
    "* The dataset is huuuuge (1.6m tweets). When you develop your data analysis codes, you can sample a subset of the data (e.g. 20k records) so that you will save a lot of time when you test your codes."
   ]
  },
  {
   "cell_type": "code",
   "execution_count": 1,
   "metadata": {},
   "outputs": [
    {
     "data": {
      "text/html": [
       "<div>\n",
       "<style scoped>\n",
       "    .dataframe tbody tr th:only-of-type {\n",
       "        vertical-align: middle;\n",
       "    }\n",
       "\n",
       "    .dataframe tbody tr th {\n",
       "        vertical-align: top;\n",
       "    }\n",
       "\n",
       "    .dataframe thead th {\n",
       "        text-align: right;\n",
       "    }\n",
       "</style>\n",
       "<table border=\"1\" class=\"dataframe\">\n",
       "  <thead>\n",
       "    <tr style=\"text-align: right;\">\n",
       "      <th></th>\n",
       "      <th>target</th>\n",
       "      <th>id</th>\n",
       "      <th>date</th>\n",
       "      <th>flag</th>\n",
       "      <th>user</th>\n",
       "      <th>text</th>\n",
       "    </tr>\n",
       "  </thead>\n",
       "  <tbody>\n",
       "    <tr>\n",
       "      <th>828453</th>\n",
       "      <td>4</td>\n",
       "      <td>1557019027</td>\n",
       "      <td>Sun Apr 19 01:33:33 PDT 2009</td>\n",
       "      <td>NO_QUERY</td>\n",
       "      <td>Tarolegs</td>\n",
       "      <td>YUSS! back in the game baby! love online poker</td>\n",
       "    </tr>\n",
       "    <tr>\n",
       "      <th>493155</th>\n",
       "      <td>0</td>\n",
       "      <td>2184509499</td>\n",
       "      <td>Mon Jun 15 16:00:54 PDT 2009</td>\n",
       "      <td>NO_QUERY</td>\n",
       "      <td>Jayda_B</td>\n",
       "      <td>@craigsles i dunno  lol at least i KNOW its go...</td>\n",
       "    </tr>\n",
       "    <tr>\n",
       "      <th>375135</th>\n",
       "      <td>0</td>\n",
       "      <td>2051393610</td>\n",
       "      <td>Fri Jun 05 21:54:16 PDT 2009</td>\n",
       "      <td>NO_QUERY</td>\n",
       "      <td>visualmadness</td>\n",
       "      <td>@octopusproject Jealous! If you ever talk to t...</td>\n",
       "    </tr>\n",
       "    <tr>\n",
       "      <th>207683</th>\n",
       "      <td>0</td>\n",
       "      <td>1973539253</td>\n",
       "      <td>Sat May 30 11:20:49 PDT 2009</td>\n",
       "      <td>NO_QUERY</td>\n",
       "      <td>regeiger</td>\n",
       "      <td>Wow, Live Messenger has literally just stopped...</td>\n",
       "    </tr>\n",
       "    <tr>\n",
       "      <th>824326</th>\n",
       "      <td>4</td>\n",
       "      <td>1556216719</td>\n",
       "      <td>Sat Apr 18 22:02:02 PDT 2009</td>\n",
       "      <td>NO_QUERY</td>\n",
       "      <td>sweettea86</td>\n",
       "      <td>@AFineFrenzy i like that a lot. it really does...</td>\n",
       "    </tr>\n",
       "  </tbody>\n",
       "</table>\n",
       "</div>"
      ],
      "text/plain": [
       "        target          id                          date      flag  \\\n",
       "828453       4  1557019027  Sun Apr 19 01:33:33 PDT 2009  NO_QUERY   \n",
       "493155       0  2184509499  Mon Jun 15 16:00:54 PDT 2009  NO_QUERY   \n",
       "375135       0  2051393610  Fri Jun 05 21:54:16 PDT 2009  NO_QUERY   \n",
       "207683       0  1973539253  Sat May 30 11:20:49 PDT 2009  NO_QUERY   \n",
       "824326       4  1556216719  Sat Apr 18 22:02:02 PDT 2009  NO_QUERY   \n",
       "\n",
       "                 user                                               text  \n",
       "828453       Tarolegs    YUSS! back in the game baby! love online poker   \n",
       "493155        Jayda_B  @craigsles i dunno  lol at least i KNOW its go...  \n",
       "375135  visualmadness  @octopusproject Jealous! If you ever talk to t...  \n",
       "207683       regeiger  Wow, Live Messenger has literally just stopped...  \n",
       "824326     sweettea86  @AFineFrenzy i like that a lot. it really does...  "
      ]
     },
     "execution_count": 1,
     "metadata": {},
     "output_type": "execute_result"
    }
   ],
   "source": [
    "# your code here\n",
    "import pandas as pd\n",
    "\n",
    "data = pd.read_csv(\"/Users/jungle/Downloads/training.1600000.processed.noemoticon.csv\", encoding ='latin-1')\n",
    "\n",
    "cols= ['target', 'id', 'date', 'flag', 'user', 'text']\n",
    "\n",
    "data.columns = cols\n",
    "\n",
    "#df.info\n",
    "\n",
    "df = data.sample(20000)\n",
    "df.head()"
   ]
  },
  {
   "cell_type": "markdown",
   "metadata": {},
   "source": [
    "### Prepare Textual Data for Sentiment Analysis\n",
    "\n",
    "Now, apply the functions you have written in Challenge 1 to your whole data set. These functions include:\n",
    "\n",
    "* `clean_up()`\n",
    "\n",
    "* `tokenize()`\n",
    "\n",
    "* `stem_and_lemmatize()`\n",
    "\n",
    "* `remove_stopwords()`\n",
    "\n",
    "Create a new column called `text_processed` in the dataframe to contain the processed data. At the end, your `text_processed` column should contain lists of word tokens that are cleaned up. Your data should look like below:\n",
    "\n",
    "![Processed Data](data-cleaning-results.png)"
   ]
  },
  {
   "cell_type": "code",
   "execution_count": 2,
   "metadata": {},
   "outputs": [],
   "source": [
    "# your code here\n",
    "sentiment = df.sample(20000)\n",
    "#sentiment.head()\n",
    "\n",
    "import re \n",
    "\n",
    "def clean_up(s):\n",
    "    words = s.split()\n",
    "    words = [w.lower() for w in words if not w.startswith('http://')]\n",
    "    words = re.findall('[^\\d\\W]+', ' '.join(words))\n",
    "    return ' '.join(words)\n",
    "\n",
    "import nltk\n",
    "from nltk.tokenize import word_tokenize\n",
    "\n",
    "def tokenize(s):\n",
    "    return word_tokenize(s)\n",
    "\n",
    "from nltk.stem import PorterStemmer \n",
    "from nltk.stem import WordNetLemmatizer \n",
    "\n",
    "def stem_and_lemmatize(l):\n",
    "    l = ' '.join(l)\n",
    "    stem = PorterStemmer().stem(l)\n",
    "    lemm = WordNetLemmatizer().lemmatize(stem)\n",
    "    return lemm\n",
    "\n",
    "from nltk.corpus import stopwords\n",
    "\n",
    "def remove_stopwords(l):\n",
    "    stop_words = stopwords.words('english')\n",
    "    return [i for i in l.split() if i not in stop_words]"
   ]
  },
  {
   "cell_type": "code",
   "execution_count": 3,
   "metadata": {},
   "outputs": [],
   "source": [
    "df['text_processed'] = df['text'].apply(clean_up)\n",
    "df['text_processed'] = df['text_processed'].apply(tokenize)\n",
    "df['text_processed'] = df['text_processed'].apply(stem_and_lemmatize)\n",
    "df['text_processed'] = df['text_processed'].apply(remove_stopwords)"
   ]
  },
  {
   "cell_type": "code",
   "execution_count": 4,
   "metadata": {},
   "outputs": [
    {
     "data": {
      "text/html": [
       "<div>\n",
       "<style scoped>\n",
       "    .dataframe tbody tr th:only-of-type {\n",
       "        vertical-align: middle;\n",
       "    }\n",
       "\n",
       "    .dataframe tbody tr th {\n",
       "        vertical-align: top;\n",
       "    }\n",
       "\n",
       "    .dataframe thead th {\n",
       "        text-align: right;\n",
       "    }\n",
       "</style>\n",
       "<table border=\"1\" class=\"dataframe\">\n",
       "  <thead>\n",
       "    <tr style=\"text-align: right;\">\n",
       "      <th></th>\n",
       "      <th>target</th>\n",
       "      <th>id</th>\n",
       "      <th>date</th>\n",
       "      <th>flag</th>\n",
       "      <th>user</th>\n",
       "      <th>text</th>\n",
       "      <th>text_processed</th>\n",
       "    </tr>\n",
       "  </thead>\n",
       "  <tbody>\n",
       "    <tr>\n",
       "      <th>828453</th>\n",
       "      <td>4</td>\n",
       "      <td>1557019027</td>\n",
       "      <td>Sun Apr 19 01:33:33 PDT 2009</td>\n",
       "      <td>NO_QUERY</td>\n",
       "      <td>Tarolegs</td>\n",
       "      <td>YUSS! back in the game baby! love online poker</td>\n",
       "      <td>[yuss, back, game, baby, love, online, pok]</td>\n",
       "    </tr>\n",
       "    <tr>\n",
       "      <th>493155</th>\n",
       "      <td>0</td>\n",
       "      <td>2184509499</td>\n",
       "      <td>Mon Jun 15 16:00:54 PDT 2009</td>\n",
       "      <td>NO_QUERY</td>\n",
       "      <td>Jayda_B</td>\n",
       "      <td>@craigsles i dunno  lol at least i KNOW its go...</td>\n",
       "      <td>[craigsles, dunno, lol, least, know, going, b]</td>\n",
       "    </tr>\n",
       "    <tr>\n",
       "      <th>375135</th>\n",
       "      <td>0</td>\n",
       "      <td>2051393610</td>\n",
       "      <td>Fri Jun 05 21:54:16 PDT 2009</td>\n",
       "      <td>NO_QUERY</td>\n",
       "      <td>visualmadness</td>\n",
       "      <td>@octopusproject Jealous! If you ever talk to t...</td>\n",
       "      <td>[octopusproject, jealous, ever, talk, sometime...</td>\n",
       "    </tr>\n",
       "    <tr>\n",
       "      <th>207683</th>\n",
       "      <td>0</td>\n",
       "      <td>1973539253</td>\n",
       "      <td>Sat May 30 11:20:49 PDT 2009</td>\n",
       "      <td>NO_QUERY</td>\n",
       "      <td>regeiger</td>\n",
       "      <td>Wow, Live Messenger has literally just stopped...</td>\n",
       "      <td>[wow, live, messenger, literally, stopped, wor...</td>\n",
       "    </tr>\n",
       "    <tr>\n",
       "      <th>824326</th>\n",
       "      <td>4</td>\n",
       "      <td>1556216719</td>\n",
       "      <td>Sat Apr 18 22:02:02 PDT 2009</td>\n",
       "      <td>NO_QUERY</td>\n",
       "      <td>sweettea86</td>\n",
       "      <td>@AFineFrenzy i like that a lot. it really does...</td>\n",
       "      <td>[afinefrenzy, like, lot, really, make, sense, ...</td>\n",
       "    </tr>\n",
       "  </tbody>\n",
       "</table>\n",
       "</div>"
      ],
      "text/plain": [
       "        target          id                          date      flag  \\\n",
       "828453       4  1557019027  Sun Apr 19 01:33:33 PDT 2009  NO_QUERY   \n",
       "493155       0  2184509499  Mon Jun 15 16:00:54 PDT 2009  NO_QUERY   \n",
       "375135       0  2051393610  Fri Jun 05 21:54:16 PDT 2009  NO_QUERY   \n",
       "207683       0  1973539253  Sat May 30 11:20:49 PDT 2009  NO_QUERY   \n",
       "824326       4  1556216719  Sat Apr 18 22:02:02 PDT 2009  NO_QUERY   \n",
       "\n",
       "                 user                                               text  \\\n",
       "828453       Tarolegs    YUSS! back in the game baby! love online poker    \n",
       "493155        Jayda_B  @craigsles i dunno  lol at least i KNOW its go...   \n",
       "375135  visualmadness  @octopusproject Jealous! If you ever talk to t...   \n",
       "207683       regeiger  Wow, Live Messenger has literally just stopped...   \n",
       "824326     sweettea86  @AFineFrenzy i like that a lot. it really does...   \n",
       "\n",
       "                                           text_processed  \n",
       "828453        [yuss, back, game, baby, love, online, pok]  \n",
       "493155     [craigsles, dunno, lol, least, know, going, b]  \n",
       "375135  [octopusproject, jealous, ever, talk, sometime...  \n",
       "207683  [wow, live, messenger, literally, stopped, wor...  \n",
       "824326  [afinefrenzy, like, lot, really, make, sense, ...  "
      ]
     },
     "execution_count": 4,
     "metadata": {},
     "output_type": "execute_result"
    }
   ],
   "source": [
    "df.head()"
   ]
  },
  {
   "cell_type": "markdown",
   "metadata": {},
   "source": [
    "### Creating Bag of Words\n",
    "\n",
    "The purpose of this step is to create a [bag of words](https://en.wikipedia.org/wiki/Bag-of-words_model) from the processed data. The bag of words contains all the unique words in your whole text body (a.k.a. *corpus*) with the number of occurrence of each word. It will allow you to understand which words are the most important features across the whole corpus.\n",
    "\n",
    "Also, you can imagine you will have a massive set of words. The less important words (i.e. those of very low number of occurrence) do not contribute much to the sentiment. Therefore, you only need to use the most important words to build your feature set in the next step. In our case, we will use the top 5,000 words with the highest frequency to build the features.\n",
    "\n",
    "In the cell below, combine all the words in `text_processed` and calculate the frequency distribution of all words. A convenient library to calculate the term frequency distribution is NLTK's `FreqDist` class ([documentation](https://www.nltk.org/api/nltk.html#module-nltk.probability)). Then select the top 5,000 words from the frequency distribution."
   ]
  },
  {
   "cell_type": "code",
   "execution_count": 5,
   "metadata": {},
   "outputs": [
    {
     "name": "stdout",
     "output_type": "stream",
     "text": [
      "['yuss', 'back', 'game', 'baby', 'love', 'online', 'pok', 'craigsles', 'dunno', 'lol', 'least', 'know', 'going', 'b', 'octopusproject', 'jealous', 'ever', 'talk', 'sometime', 'soon', 'tell', 'come', 'cali', 'missed', 'playing', 'last', 'week', 'wow', 'live', 'messenger', 'literally', 'stopped', 'working', 'machine', 'error', 'problem', 'codes', 'run', 'afinefrenzy', 'like', 'lot', 'really', 'make', 'sense', 'huh', 'darkpiano', 'good', 'morning', 'loren', 'mileycyrus', 'aww', 'nice', 'pic', 'lucky', 'summer', 'almost', 'winter', 'com', 'xiaoxiuxiu', 'got', 'liao', 'welcome', 'twitt', 'wtf', 'front', 'row', 'needless', 'say', 'midget', 'wrestling', 'youtube', 'later', 'tonight', 'goodmorning', 'world', 'twitter', 'hope', 'wonderful', 'day', 'plan', 'laurenlibby', 'sweet', 'thanks', 'cause', 'christ', 'ulixis', 'tough', 'time', 'finding', 'licorice', 'tea', 'lately', 'find', 'buy', 'boxes', 'pc', 'better', 'stash', 'soup', 'dinn', 'go', 'college', 'today', 'holiday', 'woke', 'bhans', 'wish', 'also', 'hungri', 'weather', 'pretty', 'awful', 'germany', 'headach', 'even', 'bowl', 'cereal', 'without', 'explod', 'school', 'long', 'weekend', 'gracemym', 'well', 'oks', 'wait', 'call', 'get', 'mad', 'xd', 'haha', 'loove', 'yaaa', 'lt', 'bed', 'watched', 'depree', 'funny', 'movie', 'sad', 'ap', 'tour', 'amazing', 'omg', 'yellowstone', 'post', 'p', 'ruyoung', 'oh', 'man', 'via', 'train', 'wifi', 'horr', 'justg', 'great', 'hear', 'g', 'glad', 'uncle', 'alright', 'ddlovato', 'youre', 'person', 'allow', 'us', 'believe', 'keep', 'chin', 'natashatakia', 'bleh', 'usually', 'complain', 'mondays', 'feel', 'crap', 'moms', 'never', 'finally', 'work', 'drinking', 'starbuck', 'jonasbrothers', 'awwwwwn', 'video', 'miley', 'demi', 'others', 'disney', 'stars', 'boys', 'â', 'terribly', 'disappointed', 'garden', 'ridge', 'jackson', 'talking', 'china', 'joshkopelman', 'im', 'sure', 'weeks', 'ago', 'anytime', 'tessax', 'ohoh', 'yea', 'true', 'ah', 'try', 'earlier', 'else', 'wont', 'meet', 'u', 'ugh', 'netbal', 'made', 'chicago', 'let', 'fest', 'begin', 'car', 'leaks', 'inside', 'blame', 'monsoon', 'fnordine', 'hug', 'worried', 'hericabr', 'retweeting', 'fluffymuppet', 'btw', 'wind', 'ready', 'hom', 'sexi_lexi', 'cooking', 'xsavedgex', 'happy', 'birthday', 'andi', 'god', 'real', 'film', 'crushing', 'depressiveness', 'encompass', 'miss', 'girls', 'aw', 'cupcake', 'kambal', 'mami', 'kapated', 'te', 'margaux', 'muffin', 'best', 'sis', 'cant', 'see', 'jun', 'tried', 'hard', 'remember', 'everything', 'camping', 'pillow', 'pizza', 'methink', 'watch', 'brewer', 'eat', 'play', 'sims', 'sit', 'vaporizer', 'filled', 'room', 'stupid', 'cold', 'suck', 'high', 'price', 'oem', 'starter', 'edition', 'microsoft', 'asking', 'windows', 'ars', 'technica', 'sick', 'scaling', 'writing', 'goal', 'new', 'goals', 'chemo', 'puke', 'write', 'one', 'page', 'novel', 'draft', 'writego', 'talked', 'donjuanwhat', 'listening', 'w', 'aussiecynic', 'hectiv', 'runny', 'around', 'women', 'goof', 'making', 'surprise', 'winedude', 'vcuspoon', 'think', 'craig', 'posts', 'lieu', 'shitter', 'taste', 'night', 'thing', 'follow', 'want', 'everyone', 'bite', 'ciao', 'showering', 'jennas', 'woods', 'studying', 'dawn', 'math', 'exam', 'tomorrow', 'addons', 'fx', 'coz', 'versions', 'beach', 'cousinssss', 'people', 'slightly', 'retarded', 'fault', 'mine', 'eith', 'shower', 'dog', 'goes', 'quot', 'timmys', 'pass', 'needy', 'dads', 'shut', 'guilti', 'vh', 'scornfed', 'sorry', 'lil', 'chick', 'dee', 'gon', 'na', 'give', 'next', 'enjoy', 'rest', 'home', 'hi', 'bro', 'hitting', 'since', 'awesome', 'stuck', 'insid', 'mayareguru', 'mean', 'ruin', 'watching', 'lesleylambert', 'tweeted', 'madly', 'wishing', 'money', 'postgay', 'tweets', 'showing', 'stream', 'yay', 'missing', 'ouch', 'headache', 'killing', 'worth', 'children', 'general', 'hospital', 'r', 'stuart', 'chandl', 'jbfutureboy', 'diversity', 'deserved', 'right', 'portland', 'class', 'feelin', 'reason', 'ta', 'petreanu', 'alon', 'finds', 'liam', 'neeson', 'ridiculously', 'attract', 'vote', 'bands', 'manage', 'years', 'supajam', 'please', 'blck', 'heart', 'thali_q', 'nhã', 'que', 'houve', 'meu', 'bebãª', 'practising', 'presentation', 'sweeties', 'ronja', 'amp', 'svenja', 'chexbutta', 'wanted', 'sex', 'year', 'offer', 'nowhere', 'near', 'rud', 'prolly', 'jamba', 'juice', 'thirty', 'minutes', 'shop', 'awhile', 'hit', 'airport', 'daddddd', 'nothing', 'house', 'drink', 'water', 'milk', 'unhappy', 'camper', 'found', 'early', 'cos', 'getting', 'results', 'fail', 'sci', 'fixed', 'cs', 'installed', 'wireless', 'adapter', 'doesnt', 'booorrrringggg', 'cba', 'waking', 'morn', 'homeee', 'met', 'old', 'sophiebaron', 'max', 'impressed', 'went', 'firehaus', 'dinner', 'drinks', 'enjoyed', 'joegatell', 'awwwwwwwwwwwwwww', 'h', 'courtfay', 'ahh', 'lets', 'spew', 'happen', 'puch', 'serie', 'oro', 'renagades', 'read', 'blog', 'jessicashand', 'truly', 'bett', 'jonmelville', 'withdraw', 'iphone', 'bid', 'deserves', 'following', 'random', 'ppl', 'dont', 'bit', 'xxsabina', 'choclate', 'taken', 'yumi', 'jordanknight', 'yeah', 'still', 'keeping', 'fingers', 'crossed', 'canadian', 'dates', 'added', 'hints', 'ottawa', 'took', 'look', 'mirror', 'said', 'handsome', 'nd', 'soulja', 'boy', 'gave', 'cute', 'kitty', 'remi', 'dad', 'way', 'succeed', 'put', 'rohit', 'form', 'worst', 'graduating', 'parents', 'graduate', 'october', 'part', 'sucksss', 'dear', 'intern', 'students', 'flattered', 'mention', 'thank', 'section', 'check', 'name', 'twic', 'batcave', 'grad', 'laugh', 'situations', 'sometimes', 'fake', 'foney', 'acting', 'ni', 'lonely', 'ush', 'loves', 'life', 'atm', 'brilliant', 'goodnight', 'voice', 'bad', 'wants', 'die', 'foods', 'fucking', 'michaelleung', 'bug', 'account', 'reading', 'thi', 'comforting', 'big', 'finished', 'fic', 'success', 'curry', 'chicken', 'brew', 'pals', 'first', 'briancray', 'djsparkx', 'sooo', 'guess', 'means', 'laptop', 'fixing', 'show', 'family', 'matt', 'joey', 'joeyy', 'jennettemccurdy', 'loving', 'bracelets', 'driving', 'boyfriend', 'nuts', 'enthusiasm', 'excitement', 'anything', 'hannahbucke', 'tory', 'across', 'board', 'coffee', 'ur', 'cup', 'yirgacheffe', 'french', 'press', 'ummmumm', 'dy', 'sunday', 'moodzulu', 'gigantic', 'followfriday', 'many', 'things', 'hav', 'done', 'lrch', 'alumni', 'maxine_c', 'twt', 'pm', 'screaming', 'yet', 'ok', 'osherlana', 'camp', 'hilzfuld', 'cousin', 'commer', 'fun', 'sideshowtony', 'episode', 'cbs', 'trap', 'fell', 'asleep', 'creature', 'theolsens', 'atlest', 'start', 'movies', 'friend', 'add', 'marthon', 'nights', 'plz', 'joetteharkins', 'problemo', 'agre', 'thought', 'skin', 'dirty', 'actually', 'tan', 'mrjamesstewart', 'proud', 'sleep', 'hours', 'non', 'stop', 'soileronthetea', 'knowwwwwwwwww', 'terrifi', 'synopsis', 'sucky', 'jennyluv', 'oorrrrr', 'charger', 'jk', 'tinytwitter', 'take', 'battery', 'tho', 'curtains', 'drawn', 'christmas', 'bulb', 'okay', 'moment', 'ruined', 'nofx', 'killed', 'song', 'ipod', 'shuffle', 'wasnt', 'idea', 'sheilal', 'makes', 'another', 'young', 'nipped', 'bud', 'spent', 'looking', 'polaroid', 'cameras', 'graduation', 'srgudd', 'safe', 'trip', 'tc', 'fakefielding', 'gg', 'reports', 'female', 'queen', 'jeffff', 'phone', 'direct', 'message', 'mindwarp', 'street', 'photos', 'personally', 'black', 'white', 'color', 'contrast', 'wildfire', 'balls', 'tbh', 'seeing', 'painkillers', 'affects', 'leave', 'flat', 'def', 'megasaurus_x', 'brisbane', 'sydney', 'shows', 'afford', 'mo', 'tommcfly', 'completed', 'reply', 'fading', 'fast', 'gym', 'corsakti', 'uncomfortable', 'nippl', 'programs', 'sales', 'guy', 'could', 'totally', 'bumming', 'headphones', 'kick', 'ass', 'blocking', 'outer', 'nois', 'raining', 'happened', 'sunshin', 'rainy', 'dropped', 'mike', 'arkansas', 'alreadi', 'sitting', 'soo', 'hot', 'sucks', 'course', 'fall', 'britney', 'cirus', 'mask', 'super', 'excited', 'weezy', 'drake', 'jeezy', 'concert', 'till', 'august', 'zonedguy', 'joesobieck', 'biz', 'transitioning', 'running', 'computer', 'repair', 'trying', 'sm', 'marketing', 'path', 'lik', 'mobile', 'gettin', 'pls', 'stay', 'march', 'pl', 'paper', 'finish', 'eating', 'mcdonalds', 'lunch', 'break', 'hw', 'someone', 'ingridmusic', 'left', 'rockinrose', 'scotland', 'wrong', 'depeche', 'mod', 'rogues_gallery', 'disqus', 'set', 'english', 'essay', 'finals', 'round', 'iced', 'must', 'admit', 'hate', 'light', 'congrats', 'phil', 'th', 'j', 'sam', 'gayrod', 'zeeaziz', 'shite', 'entertained', 'stress', 'starting', 'spam', 'mail', 'gmail', 'exploit', 'filter', 'googl', 'church', 'friends', 'breakfast', 'honey', 'favorite', 'meal', 'heck', 'babyscratch', 'tamales', 'tooo', 'record', 'feels', 'alice', 'harry', 'exchanged', 'fruit', 'reaffirm', 'faith', 'pott', 'rike', 'hannah', 'montana', 'low', 'empty', 'stomach', 'gretelscarlett', 'lack', 'sugar', 'food', 'kicking', 'hey', 'heard', 'dublin', 'sold', 'omw', 'ten', 'track', 'field', 'somethings', 'tv', 'saw', 'weirdest', 'interview', 'toms', 'face', 'end', 'indescribable', 'danny', 'hilari', 'funk', 'phones', 'ttfn', 'rayisonfire', 'spend', 'whole', 'everyday', 'mfmfmfmf', 'upgraded', 'android', 'dp', 'profile', 'support', 'streaming', 'stereo', 'bluetooth', 'google', 'client', 'disappear', 'breakfeast', 'n', 'party', 'lat', 'ughhhhhhhhhhh', 'luck', 'cuz', 'rarely', 'lost', 'bposney', 'ohh', 'shit', 'didnt', 'would', 'punk', 'ran', 'miles', 'ate', 'healthy', 'damn', 'times', 'ask', 'update', 'feeling', 'wel', 'movi', 'cut', 'hair', 'primary', 'kid', 'haircut', 'annoyed', 'instal', 'tummy', 'hurts', 'badli', 'news', 'wathobio', 'fancy', 'ofio', 'yes', 'guessed', 'hail', 'aforementioned', 'clan', 'wiil_', 'dumb', 'card', 'nicholaspoulos', 'ohai', 'videos', 'cool', 'audrinaaa', 'subway', 'nicloveshab', 'confused', 'ford', 'fiesta', 'fusion', 'anyone', 'always', 'lose', 'side', 'earings', 'whywhywhy', 'l', 'jus', 'yess', 'sucessful', 'shawnking', 'zack', 'miri', 'porno', 'freaking', 'circus', 'dude', 'loved', 'stupidweeb', 'daily', 'karaoke', 'contests', 'pr', 'foggy', 'weath', 'meggs', 'latinaleader', 'aurelia', 'quite', 'awake', 'probably', 'pastor', 'ken', 'tears', 'photo', 'eye', 'hurt', 'rabidrat', 'tweet', 'notes', 'tear', 'siobhanreddy', 'seeeeee', 'far', 'away', 'xxxx', 'x', 'renda', 'followed', 'twit', 'simple', 'mee', 'newbie', 'hahaa', 'conceit', 'terrible', 'terencelo', 'touchy', 'subject', 'blockage', 'emailing', 'vids', 'states', 'upload', 'chinese', 'tired', 'days', 'starfish', 'spong', 'stomache', 'begging', 'possibly', 'little', 'ice', 'lolly', 'tis', 'either', 'cola', 'calippo', 'copied', 'funni', 'muscati', 'story', 'short', 'trapmuzik', 'idk', 'whats', 'wronq', 'twittpic', 'searchiqn', 'twitpic', 'twittname', 'ull', 'leejonathan', 'fave', 'films', 'walked', 'rd', 'sheer', 'disgust', 'hoped', 'bale', 'improve', 'tim', 'erasing', 'store', 'partially', 'sim', 'nehalia', 'alone', 'anymore', 'grandmother', 'zeewolde', 'afternoon', 'dhughesy', 'poopy', 'grumpy', 'sleeping', 'babies', 'li', 'thinking', 'calls', 'unplanned', 'pregnancies', 'communication', 'chaos', 'disturbing', 'spookychan', 'ninja', 'dearly', 'ticket', 'tristan', 'pixels', 'cost', 'average', 'consumer', 'obviously', 'willing', 'pay', 'everyon', 'erliou', 'jenson', 'button', 'win', 'hungov', 'doubt', 'wil', 'benhyrman', 'place', 'lem', 'priority', 'fix', 'fuckin', 'profil', 'infragistic', 'dockmanager', 'sourcecode', 'urgent', 'need', 'adding', 'function', 'release', 'slow', 'hmm', 'brain', 'transplant', 'suggest', 'replace', 'aishaqamar', 'accepted', 'picture', 'lov', 'dance', 'mood', 'rain', 'delay', 'held', 'alc', 'lettyma', 'burnt', 'pop', 'corn', 'office', 'smells', 'ii', 'wannna', 'kiss', 'joe', 'jonas', 'iii', 'wan', 'hold', 'tight', 'magic', 'moon', 'lie', 'fli', 'blink', 'foot', 'anddd', 'toes', 'sausages', 'friday', 'late', 'ya', 'noreen_ong', 'hungry', 'site', 'due', 'upgrades', 'according', 'host', 'entry', 'aft', 'glorious', 'sunny', 'sat', 'stephens', 'green', 'surrounded', 'defacating', 'birds', 'pigeon', 'basketbal', 'clarencejones', 'hearty', 'holtz', 'earli', 'tijeanonline', 'welcom', 'doggies', 'eaten', 'thyme', 'plant', 'grown', 'luishandshake', 'congratul', 'mornin', 'bike', 'fit', 'tires', 'bus', 'rack', 'hadda', 'locked', 'oh_so_gucci', 'kylebuzzard', 'evidently', 'turns', 'charging', 'rebooting', 'chracter', 'chat', 'rooom', 'mztrishx', 'network', 'teach', 'something', 'cook', 'msjoshlyn', 'blood', 'tellin', 'hardly', 'slp', 'nite', 'karting', 'acount', 'keiko', 'softball', 'wallet', 'keys', 'though', 'kiss_of_depth', 'previous', 'leaving', 'jonathanrknight', 'mind', 'nak', 'joejgirl', 'sent', 'nb', 'bea', 'greet', 'vayerman', 'coooool', 'itttt', 'sux', 'however', 'broke', 'niggas', 'decide', 'crib', 'steal', 'witnessing', 'midwest', 'lightning', 'storm', 'severe', 'stuff', 'degrees', 'pandemonium', 'available', 'agoï', '½', 'jasper', 'guys', 'uh', 'girl', 'deenadooda', 'whatever', 'number', 'ontd', 'nervous', 'breakdown', 'mitaliaandme', 'gam', 'location', 'carlton', 'vic', 'bing', 'showed', 'disappoint', 'every', 'related', 'sens', 'less', 'fortress', 'oregon', 'soooooo', 'volleyball', 'practices', 'condit', 'functioning', 'dressed', 'comes', 'midnight', 'hangover', 'hilarious', 'mariliazevedo', 'red', 'winee', 'jemappellekim', 'taking', 'shuttle', 'busy', 'ning', 'ordered', 'several', 'pric', 'melissasuzanne', 'blah', 'ish', 'pool', 'bf', 'cannonballs', 'luv', 'lif', 'photobucket', 'design', 'icons', 'www', 'lautnerx', 'feedback', 'utorvita', 'fully', 'functionable', 'boo', 'heycassadee', 'uk', 'misses', 'lagos', 'bound', 'mum', 'tells', 'use', 'memory', 'stick', 'potential', 'viruses', 'anyway', 'australia', 'pawmarks', 'steven', 'tpphotography', 'lacking', 'oversized', 'ego', 'iv', 'flu', 'todo', 'fac', 'sakä', 'sã¼t', 'verme', 'batu', 'ishal', 'olur', 'pã¼re', 'haline', 'getireceä', 'yiyecekleri', 'verebilirsin', 'bol', 'su', 'iã', 'ir', 'birede', 'scoreland', 'yummy', 'weird', 'job', 'mark_jackman', 'cottaging', 'pepperdog', 'much', 'cheeserat', 'furry', 'famili', 'earthxplorer', 'monday', 'rumble', 'action', 'different', 'uno', 'pathet', 'sirjayitis', 'belly', 'sorryyyy', 'mofos', 'iphones', 'banananna_belle', 'figure', 'mr_nikolai', 'thanx', 'gorgeous', 'whisked', 'strapping', 'catrinasupple', 'texting', 'hun', 'deliv', 'brunamedeiros', 'hahahaha', 'usa', 'kidnap', 'brothers', 'j_distefano', 'robot', 'wall', 'e', 'notfeelingwel', 'ubertwitter', 'twitterberry', 'bbm', 'might', 'change', 'ubertwitt', 'rubyam', 'told', 'shoelov', 'anxious', 'bag', 'roses', 'box', 'jewelri', 'trackstargibson', 'trending', 'top', 'da', 'mii', 'twin', 'forbiidd', 'starz', 'beezygirl_sodmg', 'kissmykitty', 'easy', 'brought', 'ey', 'closed', 'door', 'finger', 'nail', 'tootsies', 'dougiemcfly', 'phon', 'crankyfrekles', 'assum', 'danishes', 'muffins', 'zanmac', 'usernam', 'official', 'bell', 'jaggeree', 'bejayzus', 'ripped', 'shirt', 'lukebrindley', 'sir', 'hudson', 'river', 'sounding', 'kingsburgval', 'truest', 'thats', 'zackrabbit', 'donuts', 'preferred', 'cookies', 'recipe', 'cookshow', 'listen', 'air', 'christopherm', 'snakes', 'celebrity', 'outta', 'kjshdfuagnrmb', 'shudders', 'ajkshdfmnaerif', 'grahmzilla', 'jerk', 'joejxflywithme', 'mom', 'flames', 'coming', 'froim', 'ground', 'outside', 'hel', 'tom', 'awswer', 'says', 'carol', 'cry', 'beg', 'xx', 'caraaaaaa', 'someon', 'cloudofaeries', 'rants', 'rav', 'somebody', 'cure', 'str', 'throw', 'ughh', 'thecrystallady', 'moving', 'floor', 'experience', 'xxx', 'alexattwittur', 'learning', 'roncharles', 'ron', 'books', 'bevansdesign', 'caz_oz', 'nimble', 'fair', 'mel', 'care', 'xo', 'berryanarchy', 'passion', 'ughhhh', 'physicianassist', 'bill', 'leinweber', 'ceo', 'evp', 'regarding', 'trniii', 'masterluke', 'kmbar', 'hmmm', 'wonder', 'pages', 'cindyandrews', 'seems', 'naggin', 'daughter', 'dating', 'fag', 'serranoalex', 'bradiewebbstack', 'beautiful', 'men', 'woman', 'loose', 'pussy', 'hoes', 'lesbian', 'nevilledunn', 'dick', 'rickymc', 'hahaha', 'aubreyoday', 'imma', 'darryl', 'chill', 'wayyyy', 'thetru', 'sparkplug', 'lawn', 'mower', 'case', 'philly', 'waitttt', 'shout', 'essendon', 'nobody', 'tha', 'rdq', 'pumped', 'points', 'expect', 'ladylucius', 'total', 'mac', 'apple', 'whore', 'ihavekankles', 'roger', 'federer', 'roland', 'garros', 'yaaaay', 'exercise', 'aches', 'exhausted', 'un', 'abc', 'liking', 'shuts', 'gets', 'hayfev', 'gokey', 'fin', 'annettetush', 'awww', 'compliment', 'appreci', 'knotts', 'excit', 'hallo', 'ihr', 'alle', 'broadcasting', 'ohmygoodgrace', 'poem', 'praying', 'turn', 'disappointing', 'star', 'gazing', 'exclusive', 'lmao', 'wasted', 'saturday', 'migrane', 'alll', 'bor', 'sleeps', 'wee', 'dsl', 'laundromat', 'elmegade', 'partly', 'broken', 'dk', 'traffic', 'routing', 'properly', 'works', 'charming', 'assed', 'anymor', 'marleematlin', 'forever', 'matter', 'gawd', 'posted', 'jennw', 'everyth', 'peterelst', 'service', 'overloaded', 'offline', 'st', 'kitten', 'delivered', 'paris', 'chillin', 'kris', 'calbbusy', 'tooooooo', 'fireworks', 'dell', 'diamond', 'hour', 'pandadementia', 'oo', 'hopefully', 'loswhit', 'fishermen', 'throat', 'losenges', 'singing', 'vocaltip', 'hk', 'horror', 'drama', 'ended', 'used', 'ghosts', 'east', 'bored', 'ill', 'lonered', 'trainin', 'castlemyking', 'classes', 'explode', 'ka', 'boom', 'hannahmei', 'whether', 'bloody', 'shaped', 'internet', 'living', 'seriouslyyyy', 'modern', 'ani', 'boring', '_', 'childhood', 'tokyotowerwawl', 'benu', 'otakuniverse', 'jf_kennedy', 'seen', 'awkward', 'maybe', 'ftw', 'meeting', 'afterwards', 'blazulka', 'interesting', 'province', 'hamilton', 'hahah', 'holy', 'hands', 'bday', 'thx', 'troubl', 'free', 'fil', 'homework', 'london', 'jst', 'worked', 'dnm', 'wen', 'mellow', 'dat', 'creeped', 'otha', 'bek', 'runs', 'hides', 'gt', 'haveing', 'vaccination', 'needle', 'experiences', 'traumat', 'aaaaall', 'ainaadelilah', 'curious', 'myspace', 'appletreecafe', 'al', 'riskybizness', 'dig', 'definiitely', 'shining', 'somethin', 'serious', 'camera', 'hallelujah', 'tuxorhasboobs', 'whi', 'awhh', 'wash', 'straight', 'astounding', 'future', 'newsreel', 'answers', 'question', 'rachaely', 'andy', 'goonies', 'classic', 'cooked', 'scrambled', 'eggs', 'fried', 'mushrooms', 'neither', 'survived', 'dorkrawk', 'dollop', 'macbook', 'yippee', 'gfalcone', 'hollie', 'listenin', 'gone', 'dope', 'mixtape', 'yema', 'tosh', 'death', 'music', 'esp', 'mommy', 'daddy', 'todey', 'lots', 'tail', 'se', 'sv', 'ns', 'unlocking', 'onli', 'halesjs', 'pays', 'attention', 'shame', 'losing', 'yulsiya', 'meh', 'choked', 'animal', 'testing', 'soososososo', 'wat', 'doin', 'pro', 'already', 'minorityx', 'speak', 'cathy', 'miserable', 'midterm', 'peace', 'lovelovelov', 'anyth', 'chelsealately', 'chrisissak', 'hbf', 'lamb', 'sunshine', 'yatca', 'soooo', 'jb', 'eeeep', 'keithscott', 'bright', 'dtf', 'dorney', 'park', 'printing', 'claim', 'forms', 'deez', 'japan', 'canberra', 'tormntdbydemons', 'celebrate', 'lived', 'anywhere', 'theapplejuice', 'mai', 'stato', 'adrianna', 'nemobeatz', 'tht', 'celebration', 'joel', 'nxt', 'c', 'giv', 'bout', 'vid', 'crunchygoddess', 'gwenbell', 'jeal', 'mariahcarey', 'tunes', 'mc', 'visit', 'toronto', 'xoxo', 'ddubz', 'servic', 'damnityell', 'romancorrales', 'gs', 'vacation', 'summ', 'lou__lou', 'sicilian', 'olives', 'drool', 'spagetti', 'lentil', 'sauce', 'feta', 'missxu', 'sooooo', 'diu', 'lan', 'gau', 'ing', 'coreyjaramillo', 'two', 'tidying', 'bye', 'bring', 'lunchtime', 'rugby', 'popcorn', 'three', 'tatiana', 'dying', 'boredom', 'aint', 'chair', 'tree', 'hill', 'pdurham', 'single', 'crush', 'criminal', 'minds', 'kirsten', 'vangsness', 'alas', 'gay', 'decided', 'sun', 'worshipper', 'sutted', 'thursday', 'saturdays', 'mmm', 'letter', 'bank', 'saying', 'loans', 'paid', 'officially', 'debt', 'apart', 'mortgag', 'bjs', 'havnt', 'enough', 'upd', 'rritaa', 'ab', 'popped', 'reoccuring', 'dream', 'themes', 'amusement', 'rid', 'cjarmbruster', 'tyrese', 'koball', 'hubby', 'awhil', 'imax', 'knock', 'dvd', 'musicals', 'onc', 'tub', 'epiphany', 'cheeto', 'terricook', 'evening', 'terri', 'cazob', 'gona', 'sassyback', 'msn', 'goldenfish', 'fml', 'panacea', 'private', 'whitro', 'merienda', 'peopl', 'thru', 'swine', 'scare', 'andie', 'fever', 'swab', 'test', 'fits', 'criteria', 'distraught', 'finking', 'peter', 'andre', 'katie', 'prices', 'split', 'scratch', 'head', 'slipping', 'catching', 'hook', 'quero', 'bonde', 'rol', 'tomvmorris', 'tweetdeck', 'columns', 'loaded', 'magnifying', 'glass', 'column', 'hm', 'customs', 'advert', 'fab', 'cheese', 'puppet', 'mall', 'bdoyl', 'called', 'tix', 'supposed', 'caller', 'cal', 'hehas', 'muchswagga', 'prez', 'cnn', 'define', 'swagger', 'president', 'swagga', 'lena', 'wolverine', 'husband', 'brunobord', 'lisa', 'knows', 'choosing', 'hence', 'naughti', 'fact', 'judging', 'forcast', 'spending', 'brokenshardz', 'correct', 'fat', 'sassy', 'waste', 'john', 'k', 'hudzik', 'vp', 'global', 'engagement', 'msu', 'inde', 'sandrapena', 'cake', 'wit', 'nasty', 'tweetfakes', 'stella', 'figuring', 'fak', 'capterra', 'hooray', 'ayudhya', 'katstevenss', 'save', 'energy', 'creativity', 'wenatchee', 'meaningful', 'sorri', 'asaakira', 'forward', 'november', 'ages', '_elliee', 'piles', 'jnicelove', 'liked', 'maddie_', 'cleaned', 'balcony', 'flowers', 'joebrooksmusic', 'yeahh', 'england', 'pip', 'exists', 'mollyschambrs', 'shimmer', 'hplightningbolt', 'worry', 'github', 'extremely', 'started', 'second', 'aimeelynnc', 'kevinruddpm', 'sway', 'voter', 'town', 'ihsanamin', 'katchin', 'hardheaded', 'hoping', 'slumdog', 'millionaire', 'gd', 'ylimeemily', 'yo', 'twilighters', 'milesbonny', 'aaaaa', 'catch', '_galia', 'jc', 'bethanie', 'tunnels', 'hubbi', 'blahh', 'tooh', 'icant', 'suxx', 'ncis', 'marathon', 'det', 'dinozzo', 'toxicsarah', 'mised', 'plus', 'durin', 'soaps', 'sky', 'hd', 'getin', 'jackieinchgo', 'harumpfffing', 'nothin', 'rfofficial', 'treat', 'mrbananacheeks', 'dm', 'txt', 'amanda', 'played', 'chubby', 'bunny', 'five', 'mouth', 'crawl', 'dr', 'kaitlyn', 'mth', 'checkup', 'lb', 'oz', 'inches', 'shots', 'endless', 'possibilities', 'thai', 'indian', 'toast', 'warm', 'ashleys', 'hous', 'brian_rob', 'madness', 'nicole', 'depressed', 'ones', 'mama', 'act', 'murdamex', 'fashion', 'alik', 'mamabear', 'doubled', 'followers', 'click', 'spooki', 'nhoustonreed', 'wishes', 'martinrojas', 'humanities', 'susysu', 'fine', 'concentrating', 'theanand', 'abt', 'axis', 'banks', 'virtual', 'credit', 'system', 'sseems', 'styleunleashed', 'dannymcfly', 'topics', 'brazil', 'twittz', 'lovely', 'nick', 'togeth', 'album', 'released', 'malaysia', 'needs', 'mile', 'sickness', 'celebratee', 'mamta', 'brains', 'dead', 'ellesergi', 'realise', 'nankdatthang', 'responded', 'phn', 'kau', 'apparently', 'jlo', 'came', 'yesterday', 'possible', 'airbus', 'colored', 'expected', 'roots', 'holidays', 'tragic', 'cmon', 'littli', 'yourmyoxygen', 'lorrrdy', 'changes', 'rocking', 'socks', 'vubui', 'attend', 'socal', 'area', 'goodlaura', 'twitpics', 'event', 'memorial', 'billy', 'advantage', 'onlin', 'wahliaodotcom', 'davidjlowe', 'official_cee', 'trastienda', 'club', 'mcfly', 'sirrrree', 'grammatically', 'level', 'jjonaslover', 'ha', 'join', 'benheymink', 'dutch', 'toomuchcornpops', 'often', 'redgie', 'duhitscarla', 'mla', 'format', 'spaced', 'cas', 'boredddd', 'madden', 'suffolk', 'countryside', 'wet', 'downloading', 'spre', 'mscrochets', 'jacks', 'loser', 'quiz', 'child', 'initial', 'reaction', 'chose', 'answ', 'father', 'reminds', 'patriarch', 'longer', 'rip', 'abuelito', 'stopdropandrock', 'smoothli', 'including', 'plants', 'flower', 'waiting', 'half', 'useless', 'trains', 'passed', 'mocking', 'suesshirtshop', 'piggi', 'dee_staack', 'pfft', 'guts', 'fundraiser', 'andaverde', 'bestfriends', 'mia', 'dammit', 'xbl', 'shinobi', 'code', 'original', 'seri', 'jimpeel', 'exact', 'months', 'result', 'mixed', 'grourk', 'joygiovanni', 'joy', 'diva', 'kudos', 'phatelara', 'scrub', 'toodl', 'rob', 'pattinson', 'scarstream', 'memories', 'ingat', 'ps', 'journal', 'mybonescostme', 'hngers', 'bitch', 'coyummy', 'lak', 'babi', 'britain', 'talent', 'daia', 'dang', 'invited', 'gflisa', 'crumbs', 'binder', 'meatloaf', 'rembr', 'asked', 'redheadedslut', 'nose', 'demonwarb', 'particular', 'sundays', 'chocolate', 'chip', 'jorddanknight', 'mother', 'ugghh', 'roll', 'jingles', 'ryanseacrest', 'carley', 'michigan', 'auburn', 'hil', 'inventory', 'cd', 'rom', 'seem', 'shopping', 'ms', 'filipina', 'joi', 'twhirl', 'accounts', 'fbz', 'moved', 'content', 'map', 'control', 'pointing', 'changed', 'folder', 'display', 'republish', '_dappy_', 'oohhhhhh', 'worri', 'viol', 'iainaitch', 'lifes', 'instand', 'noodle', 'amazingphoebe', 'point', 'view', 'mclego', 'block', 'alias', 'brokenfacedgirl', 'seriously', 'sacked', 'brook', 'kept', 'mas_lo', 'hush', 'sound', 'xmusicxisxlifexx', 'tir', 'order', 'omega', 'induction', 'ceremont', 'warmest', 'comfortable', 'theonion', 'gymnast', 'shawn', 'johnson', 'breaking', 'leg', 'scary', 'thunderstorm', 'yard', 'rehears', 'hermitjrnl', 'intentionally', 'nurtured', 'hermit', 'sid', 'graham_mitchell', 'nic', 'a_my_', 'hon', 'soz', 'lakers', 'bayybeee', 'uppp', 'halftime', 'castle', 'pleasee', 'prmikeydunks', 'wondering', 'band', 'lauriemvincent', 'colds', 'quickly', 'm_callahan', 'belong', 'gulpanag', 'gul', 'woes', 'bab', 'dull', 'miyayo', 'hurricane', 'season', 'kelstena', 'eu', 'allowed', 'czarinacleo', 'looks', 'badly', 'slumber', 'tehe', 'step', 'attack', 'cream', 'bowling', 'soso', 'sidsavara', 'ordeal', 'crazy', 'willyjoy', 'quick', 'briana', 'raisins', 'baked', 'potatoes', 'tomatoes', 'potassium', 'among', 'woo', 'reporting', 'services', 'linked', 'report', 'gener', 'died', 'careers', 'acc', 'itt', 'relaxed', 'fuckk', 'heysonnie', 'queer', 'neg', 'connotations', 'describe', 'unrelated', 'lexicon', 'chang', 'ev', 'chicago_sc', 'iron', 'cordura', 'corazzo', 'risk', 'melt', 'noussette', 'thankyou', 'replying', 'shed', 'happiness', 'revise', 'pag', 'cri', 'sxtxixtxcxh', 'mistakenly', 'bought', 'domain', 'dreamhost', 'originally', 'annotating', 'folks', 'prototype', 'confus', 'tmorizot', 'freak', 'nature', 'cgft', 'jryanking', 'prayin', 'france', 'victim', 'glasses', 'wine', 'bottle', 'champagne', 'sucker', 'hearing', 'pain', 'spoiling', 'fois', 'gras', 'oysters', 'rockafeller', 'crab', 'lobster', 'bisque', 'kr', 'agentsandra', 'headed', 'arrrrgh', 'amena', 'freaked', 'lady', 'ily', 'melissahathaway', 'help', 'cathy_cochina', 'liz', 'flights', 'hotels', 'killab', 'ima', 'info', 'email', 'pin', 'cell', 'vaca', 'ive', 'sushi', 'keepitmovement', 'kinda', 'confuse', 'kingdom', 'group', 'doh', 'mp', 'player', 'hotel', 'month', 'joshuamenendez', 'unfortunately', 'chronic', 'migrain', 'ninja_says', 'forgot', 'renew', 'dec', 'scrubs', 'finale', 'definition', 'throwbie', 'editors', 'reviewed', 'publish', 'rowdyqueenie', 'kyle', 'jr', 'newman', 'fan', 'co', 'excrutiating', 'conceived', 'tylersticka', 'dayn', 'exciting', 'letï', '½s', 'ï', '½em', 'wednesday', 'iambrianna', 'wakeup', 'crasssie', 'europ', 'placeee', 'estate', 'forget', 'bummer', 'missattitude', 'timing', 'til', 'rogersjames', 'james', 'talkin', 'rush', 'sicknastykaryn', 'pick', 'wichita', 'falls', 'appar', 'davidarchie', 'david', 'plans', 'davao', 'lhere', 'dorota', 'loy', 'suspended', 'paranoid', 'stephjonesmusic', 'thnx', 'jacket', 'misbehavin', 'divas', 'kevin', 'fb', 'cat', 'hospit', 'spider', 'legs', 'kids', 'horrible', 'pictionaryy', 'nails', 'prom', 'jay', 'leno', 'nandita', 'foodie', 'wowed', 'immediately', 'yee', 'irreg', 'os', 'america', 'montecarloss', 'owh', 'gods', 'annual', 'amazes', 'wakey', 'float', 'dxstr', 'zyrajanegriff', 'xbox', 'thumb', 'relaxing', 'history', 'hangin', 'bunch', 'goodnightt', 'paying', 'rpg', 'bil', 'pathetic', 'allergic', 'someth', 'joeymcintyre', 'tutoring', 'undead', 'alanabbott', 'tonymorganlive', 'ack', 'ear', 'piece', 'speaker', 'text', 'seangunn', 'yak', 'wrangler', 'motivated', 'aosleather', 'alerting', 'community', 'etsy', 'commun', 'dangerradio', 'small', 'default', 'tri', 'pouts', 'sleeep', 'rash', 'neck', 'huuuuuuuuuuuuuuurt', 'noone', 'starts', 'minute', 'caps', 'imeem', 'rb', 'deesound', 'starfire', 'showerrr', 'smoothies', 'abby', 'cancer', 'fma', 'livejournal', 'hang', 'ther', 'makeup', 'eyelashes', 'ardells', 'sale', 'walgreens', 'mothers', 'shooting', 'art', 'project', 'ryandownie', 'griffintech', 'contest', 'messy', 'enter', 'aswel', 'cindicupcaking', 'badri', 'bowing', 'heheh', 'justshemababy', 'worn', 'frm', 'lastnight', 'bcz', 'studio', 'tumblrs', 'smilepaige', 'thirteen', 'nineteen', 'ludajuice', 'nigga', 'screamin', 'noise', 'fuck', 'trackball', 'whiteley', 'yep', 'revision', 'mitchelmusso', 'mitchel', 'chance', 'taigitsune', 'temple', 'buddhist', 'amaz', 'hotwords', 'nao', 'cours', 'lilandtedsmum', 'fantastic', 'thrilled', 'richmond', 'prk', 'crashed', 'elegantly', 'pleased', 'scratches', 'stung', 'nettles', 'riding', 'ssc', 'full', 'ingus', 'ears', 'disturbed', 'allergy', 'meds', 'asap', 'tydrew', 'toooooooooo', 'cars', 'circl', 'absolutely', 'falling', 'behind', 'wheel', 'pn', 'mentioned', 'kiwi', 'strawberry', 'snapple', 'jillzarin', 'fabrics', 'furnishings', 'background', 'law', 'potter', 'dark', 'mrs', 'wolfcat', 'company', 'iphoneapple', 'receive', 'msg', 'julez', 'giver', 'totay', 'cinema', 'scarlett', 'und', 'lish', 'aimlessalchemst', 'imac', 'steviethe____', 'mate', 'bobby_wheatley', 'awh', 'bobby', 'whawhaawha', 'yayyy', 'meee', 'overtime', 'except', 'la', 'grange', 'tornado', 'chasing', 'central', 'kansas', 'tylercohen', 'heyjessie', 'technoweenie', 'webapp', 'views', 'ridiculous', 'reformatting', 'tables', 'sending', 'notices', 'churchgoer', 'jesus', 'past', 'nussery', 'cbc', 'son', 'kenny_wallace', 'mississippi', 'shudder', 'may', 'agenda', 'mudbox', 'bloodredshoes', 'ahhh', 'fuking', 'promotion', 'fans', 'richtea', 'ooooh', 'joyriding', 'olds', 'influence', 'cid', 'tobeabother', 'gotten', 'ryramos', 'chrome', 'tattos', 'exist', 'silver', 'ink', 'tox', 'epiphanygirl', 'whew', 'appreciate', 'response', 'fl', 'franklywes', 'extra', 'monopoly', 'beckybuckwild', 'sore', 'throats', 'sayi', 'leahjkelly', 'hesrumble', 'hesfrenzy', 'ooc', 'nuuuuuu', 'kettle', 'booo', 'coffe', 'expense', 'lupins', 'wisteria', 'wilting', 'somewhat', 'hills', 'nightmar', 'paultelner', 'pancak', 'yesss', 'twitterrr', 'heading', 'dress', 'gathering', 'thingy', 'wooo', 'loribjork', 'california', 'mandyyjirouxx', 'cheer', 'chuck', 'hatin', 'bum', 'disneyland', 'buzz', 'lightyear', 'ride', 'ach', 'shaky', 'confrontation', 'ambulance', 'police', 'hurricanekari', 'kenny', 'sara', 'southpark', 'hash', 'browns', 'dennskymcfish', 'hashbrown', 'mistyconn', 'devoniain', 'sounds', 'mark', 'swim', 'dd', 'redeye', 'tuesday', 'guriben', 'dougie', 'nt', 'shot', 'morewillie', 'crossing', 'iguana', 'sign', 'jodymead', 'cardiffbites', 'ankle', 'internets', 'lizzaay', 'spoiled', 'jfb', 'faq', 'misskatieprice', 'turned', 'vile', 'alter', 'jordan', 'cathedral', 'city', 'land', 'nathanfillion', 'bar', 'drewg', 'date', 'although', 'peeps', 'convince', 'yr', 'hooky', 'naaahhh', 'sell', 'pug', 'puppy', 'cried', 'oreooooooooooo', 'omgsh', 'fly', 'aac', 'garyunger', 'handed', 'tractor', 'sake', 'creatures', 'jpage', 'integration', 'blogs', 'bik', 'omgosh', 'church_mouse', 'sadly', 'dew', 'xxx_mzbuqz_xxx', 'lmaoo', 'knowww', 'ov', 'bbq', 'harveys', 'gonnaa', 'shes', 'backkkk', 'forgiveness', 'hmmmmm', 'saturdink', 'twits', 'lordy', 'tweeples', 'laughs', 'tadays', 'elafunk', 'answer', 'jreal', 'jail', 'manda', 'moming', 'pack', 'touch', 'wood', 'worse', 'fed', 'gah', 'maston', 'rearranged', 'wholllleeee', 'bomb', 'bet', 'sweden', 'asses', 'pleeeeaaas', 'maiatee', 'failed', 'felt', 'hobbies', 'woop', 'exams', 'justin_fox', 'clear', 'nviews', 'twittermania', 'joboswfc', 'allllll', 'goooooddddd', 'bloodwork', 'normal', 'deleting', 'vil', 'ye', 'expensive', 'koriannespeaks', 'kelseybee', 'limit', 'farther', 'michael', 'phelps', 'selenagomez', 'cinderella', 'inspired', 'wknd', 'begins', 'vacay', 'snarkysharky', 'iphon', 'aibt', 'mrsboris', 'book', 'skateboarding', 'iâ', 'hanging', 'singstar', 'wendywings', 'cryptic', 'pictur', 'omgitsashton', 'hypercritical', 'likes', 'arm', 'mktitsworth', 'sookiebontemps', 'worries', 'piaveleno', 'consider', 'indicator', 'plurkmates', 'install', 'games', 'comput', 'kevinmcdaid', 'awwww', 'travel', 'retrograve', 'ambient', 'doom', 'shoegaze', 'bm', 'trendy', 'grind', 'noob', 'alexisworking', 'yangtheman', 'giffan', 'cisco', 'campaign', 'based', 'dre_n_va', 'patron', 'granby', 'mayb', 'donno', 'weathers', 'shoppin', 'lisacrispin', 'londonmitch', 'baking', 'bun', 'uber', 'songs', 'updates', 'master', 'infield', 'rul', 'tickets', 'kidd', 'line', 'va_ngo', 'blocks', 'tu', 'devras', 'utiliser', 'des', 'vpn', 'ou', 'proxy', 'hotspotshield', 'carradine', 'heh', 'cellphone', 'grass', 'easily', 'glows', 'main', 'headsss', 'register', 'pre', 'swear', 'spot', 'nix', 'bidding', 'angge', 'road', 'alabama', 'arsene', 'ribs', 'itching', 'wahhh', 'collection', 'stori', 'walkin', 'mann', 'tru', 'teamukskyvixen', 'rude', 'calling', 'aargh', 'feckin', 'whoooore', 'av', 'cli', 'eoin', 'jak', 'fraggle', 'hunch', 'photog', 'skills', 'fool', 'shinobiflip', 'basket', 'ball', 'douglaspaul', 'mr', 'douglas', 'paul', 'tayhamm', 'mornings', 'sarabozich', 'information', 'bi', 'imseth', 'poolside', 'wanting', 'eli', 'andymcnally', 'jde', 'kookychick', 'hak', 'franklazaro', 'lirunner', 'laurens', 'losttrailrunner', 'research', 'enviofriend', 'camaro', 'shift', 'fill', 'poop', 'german', 'historiy', 'terr', 'knichole', 'twitterific', 'jesslin', 'picked', 'wed', 'shintz', 'britneyspear', 'nkotb', 'donniewahlberg', 'australian', 'facetim', 'team', 'nerd', 'mr_nil', 'toys', 'outdoors', 'opposite', 'grainger', 'market', 'alt', 'sports', 'shops', 'ncl', 'yesh', 'booked', 'luxurious', 'anniversary', 'missus', 'ave', 'downside', 'opening', 'connectivity', 'port', 'xi', 'requested', 'rodshelton', 'address', 'saf', 'playlist', 'exercis', 'varsityfc', 'kills', 'yankee', 'mets', 'paychecks', 'poor', 'howard', 'justin', 'sarah', 'problems', 'using', 'platform', 'rel', 'damnt', 'daniellexp', 'officer', 'madd', 'remind', 'wif', 'luvbuq', 'damnn', 'bluefroggie', 'orientation', 'lunchon', 'rock', 'wadsworth', 'pageant', 'blast', 'brother', 'zombies', 'huggers', 'lower', 'arms', 'move', 'zaneology', 'sharonhay', 'davidellis', 'nm', 'imagine', 'nutters', 'f_l_a_m_e_r', 'chapstick', 'wright', 'state', 'imjustlikeme', 'killyourstereo', 'able', 'sect', 'heater', 'desk', 'giving', 'hotflashes', 'rainbow', 'yummm', 'curly', 'fir', 'heidimontag', 'heidi', 'enjoying', 'married', 'spencerpratt', 'xox', 'stephu_ch', 'tweetie', 'vampire', 'fkgurl', 'wished', 'boston', 'loss', 'notice', 'hugh', 'grant', 'sandra', 'bullock', 'niyana', 'foam', 'weekly', 'hump', 'appears', 'editorial', 'moncton', 'transcript', 'everton', 'clearly', 'shoud', 'sloanzy', 'safari', 'download', 'practice', 'realized', 'copy', 'panda', 'lunching', 'grandpar', 'outdoormovies', 'hiya', 'heavy', 'tweetups', 'ea', 'f', 'lazy', 'study', 'socio', 'signed', 'sheep', 'therefore', 'lilyginny', 'lumalfoy', 'cheesy', 'sigh', 'chelsea_playboy', 'keeps', 'jennypoynter', 'kewanee', 'sleepi', 'upset', 'smokin', 'pig', 'ummmmm', 'tips', 'numb', 'dave_radcliffe', 'hii', 'jailbreak', 'standard', 'itunes', 'upgrade', 'kieli', 'pet', 'peeves', 'listerine', 'commercials', 'loudli', 'giuliakostin', 'twitters', 'cooler', 'sparklnfirefly', 'hello', 'strange', 'fluid', 'noises', 'fork', 'hei', 'kissmyairs', 'thaaanks', 'desper', 'conversation', 'heres', 'brand', 'legalcookie', 'snide', 'farrrk', 'arent', 'melbourne', 'ol', 'ity', 'soccergame', 'robert', 'mattydee', 'somewhere', 'suspense', 'grill', 'erichutchinson', 'shizz', 'walking', 'loner', 'carnalis', 'tooth', 'sorting', 'jaunts', 'abroad', 'gigi', 'menu', 'wear', 'hat', 'kidsfashion', 'trouble', 'kfr', 'unstable', 'mess', 'battered', 'bakersfield', 'mm', 'exciteddd', 'delonge', 'ava', 'isnt', 'type', 'voic', 'swu', 'min', 'sallysimpleton', 'wrecks', 'notorious', 'third', 'biggie', 'trailer', 'campfire', 'dentist', 'yik', 'booooo', 'phils', 'los', 'hates', 'temperature', 'slowly', 'therealpickler', 'lesombre', 'avitaball', 'bandwidth', 'craftastrophe', 'blokeslib', 'hand', 'creeping', 'towards', 'bottl', 'kennanderson', 'erins', 'license', 'andicak', 'rita', 'gonzoguy_austin', 'delete', 'beware', 'misleading', 'jackalltimelow', 'zoolander', 'banned', 'impossible', 'copi', 'wolfet', 'stanley', 'parade', 'bombjaxx', 'arsed', 'blogangel', 'facebook', 'tip', 'laughter', 'indeed', 'medicine', 'situation', 'smile', 'wholeheartedly', 'faithful', 'dj', 'plays', 'cameo', 'candy', 'sweetbaboo', 'breaks', 'bob', 'shares', 'lazertag', 'homemade', 'mango', 'pineapple', 'bean', 'guac', 'blue', 'scammed', 'word', 'xoom', 'recipient', 'noth', 'drugs', 'advil', 'tylenol', 'ly', 'settings', 'clicks', 'acct', 'eh', 'charmwitch', 'purchases', 'whim', 'despite', 'hem', 'haw', 'decis', 'diying', 'jesicastrust', 'explain', 'semi', 'understandable', 'lebeaumonde', 'begining', 'downstairs', 'tweeter', 'instead', 'telling', 'hert', 'reward', 'emailunlimited', 'christinawrites', 'couple', 'va', 'hrs', 'opt', 'fing', 'packet', 'changing', 'teksavvy', 'modem', 'stats', 'shontelsherrea', 'trek', 'woohoo', 'swollen', 'rebeccatwits', 'transformation', 'kitchen', 'posting', 'palm', 'leannanelson', 'sums', 'sophiiieeee', 'peachypictures', 'andrea', 'ff', 'wks', 'charlie', 'ben', 'thriv', 'bigbearrg', 'understand', 'petetion', 'hasnt', 'euros', 'beers', 'packing', 'leav', 'received', 'diary', 'csa', 'extraordinarily', 'unfortun', 'mstoniblair', 'exactli', 'juhidee', 'marissac', 'addy', 'joseph_a_jonas', 'aired', 'sonny', 'secretplanet', 'drawing', 'ladi', 'russ', 'tech', 'ampd', 'worship', 'pulled', 'muscle', 'treating', 'biatch', 'playm', 'helendoubleyou', 'wint', 'micaylakeeley', 'squirrel', 'saddest', 'ew', 'concertchristal', 'agh', 'pics', 'hehe', 'quoted', 'cor', 'garbage', 'sang', 'junior', 'marnweeks', 'jerry', 'springer', 'ed', 'happens', 'tcot', 'sgp', 'tlot', 'hhr', 'blendy', 'handsom', 'remebers', 'jensenclan', 'jensen', 'netra', 'samburg', 'sickest', 'intro', 'mtv', 'purely', 'strawberryfields', 'wonders', 'chazd', 'chillaxin', 'fam', 'dnt', 'wkend', 'bleak', 'conference', 'soni', 'hahahhaa', 'beree', 'mabeyy', 'addicted', 'alexis', 'cleaning', 'de', 'garrynewman', 'build', 'gmod', 'noclip', 'ruins', 'clock', 'karendales', 'funds', 'numbered', 'edadoun', 'defense', 'easi', 'clean', 'attacked', 'biggest', 'hornet', 'bird', 'dieing', 'rooms', 'hornets', 'talldriver', 'gig', 'regret', 'yesandme', 'twiter_me_this', 'thelarssan', 'maney', 'skygel', 'july', 'ohwell', 'whenever', 'yup', 'measures', 'weighs', 'skinny', 'quit', 'missjo_ladie', 'purchase', 'lapdance', 'likey', 'special', 'recommend', 'unmotivated', 'breakk', 'magazin', 'drew', 'sub', 'krash', 'shaaqt', 'ocricket', 'employee', 'sala', 'mjslim', 'hai', 'sthlm', 'article', 'gate', 'advertising', 'decorati', 'bloggy', 'jannarden', 'nnag', 'rachael', 'vinas', 'warning', 'preoccupied', 'mono', 'storms', 'weights', 'trx', 'translation', 'pleas', 'junjihee', 'lying', 'gunna', 'ina', 'apartment', 'helping', 'jaysmoothie', 'ysh', 'patrick', 'yvette', 'kitchenware', 'nhitruong', 'starshadw', 'tons', 'planting', 'grow', 'childish', 'selfish', 'flight', 'frankfurt', '_musiclover', 'ciararyandreams', 'theres', 'athen', 'aussie_at_heart', 'fish', 'bon', 'sundayz', 'olwayz', 'playin', 'geetar', 'ag', 'gutted', 'forest', 'gigs', 'unless', 'announce', 'thetford', 'mmmm', 'noticed', 'transposing', 'embarrass', 'iphigenie', 'currently', 'opera', 'alpha', 'annoying', 'bugs', 'protegez_moi', 'abou', 'eurovision', 'monumental', 'nom', 'garrett', 'orchestra', 'takes', 'thief', 'dc_zol', 'comment', 'password', 'medium', 'rayannefox', 'cash', 'seraphtc', 'nxe', 'joke', 'chargerjenn', 'thus', 'bigbakedbean', 'ooh', 'knew', 'rxdj', 'wohoh', 'yum', 'mcdonald', 'cheeseburger', 'dummi', 'phplist', 'perfectly', 'widget', 'subscrib', 'hosehold', 'exotic', 'disapear', 'prison', 'addictive', 'crack', 'ending', 'torn', 'utah', 'jazz', 'okur', 'kobe', 'ring', 'piston', 'hannahtroy', 'aka', 'version', 'plugin', 'eclipse', 'himoverthere', 'writ', 'andrewmbryant', 'taxi', 'leesaamarie', 'thewebchild', 'danhetherton', 'btwzzz', 'needa', 'potd', 'tweeple', 'lennon', 'imagin', 'tokio', 'search', 'latest', 'chipper', 'share', 'twitter_tips', 'firefox', 'ayyiya', 'rgraham', 'shouting', 'remain', 'earthshinedesig', 'arduino', 'atmega', 'autopilot', 'truth', 'wallac', 'tiannax', 'yue_y', 'nytim', 'sized', 'temporarili', 'voting', 'teen', 'choice', 'award', 'toooooo', 'swimming', 'sweaty', 'bodies', 'seb', 'tidy', 'jeep', 'ontoday', 'selling', 'yogadeals', 'remembered', 'ti', 'bhggarden', 'friendly', 'painful', 'load', 'blackberri', 'walk', 'tiring', 'pasadena', 'medal', 'achievement', 'brok', 'mercedes_j', 'brian', 'acciokatie', 'leavchip', 'glyphs', 'looked', 'vs', 'named', 'gmarms', 'koreans', 'destroyed', 'couch', 'haaaaa', 'legacy', 'exmi', 'abbsound', 'stevomoviemaker', 'yelled', 'waving', 'downtown', 'asshol', 'z', 'screw', '_faith', 'sneek', 'drag', 'hell', 'packages', 'nam', 'xxlizzyloserxx', 'aunts', 'adopted', 'tanner', 'pillows', 'sor', 'ramdass', 'durian', 'setting', 'bb', 'bc', 'accept', 'graham', 'norton', 'stabbed', 'nearly', 'heatworld', 'gossip', 'donï', '½t', 'body', 'maxilovegood', 'grilled', 'goodness', 'garlic', 'sausage', 'fri', 'needtobehigh', 'kvnmcl', 'ratings', 'army', 'wives', 'teary', 'yikes', 'intent', 'sorts', 'horrifying', 'session', 'funky', 'eliptical', 'stairs', 'sytycd', 'amy', 'unsure', 'affair', 'ilh', 'neverchang', 'dressing', 'reckon', 'tricky', 'qettinq', 'whoooooooooooooooo', 'cord', 'mi', 'hermano', 'casa', 'eachristian', 'brokenstruggle', 'wheels', 'trolley', 'pneumatic', 'bounci', 'samar_here', 'pedicure', 'kimcfly', 'danggg', 'imp', 'hersheys', 'fravorit', 'scadler', 'angiebert', 'pity', 'parti', 'continues', 'goin', 'grab', 'grub', 'base', 'unwind', 'pulte', 'moves', 'washington', 'bestie', 'growing', 'hunnirae', 'doctor', 'phill', 'cathyab', 'housework', 'grumble', 'jenn', 'wonderfully', 'fridayyyyyy', 'sesh', 'twittermobile', 'babydollniki', 'ikr', 'thick', 'tiny', 'cre', 'tve', 'alot', 'xmeganbrittanyx', 'stinks', 'soap', 'events', 'expens', 'allthings', 'count', 'power', 'courts', 'walgreen', 'aisl', 'lynnterry', 'lynn', 'ecourse', 'beyond', 'thril', 'orenmazor', 'aaaw', 'craving', 'junk', 'candi', 'ch', 'carlynsarino', 'visas', 'turkey', 'quali', 'ej', 'likeable', 'thingummy', 'perfect', 'weak', 'zolo', 'handle', 'cleared', 'wave', 'inbox', 'pie', 'hufflepuff', 'carianna', 'american', 'extravaganza', 'lvatt', 'greggarbo', 'diet', 'sodas', 'lay', 'canberrajobs', 'unfollow', 'letting', 'tool', 'fills', 'timeline', 'hop', 'wimjimjam', 'penis', 'create', 'mus', 'clareies', 'blower', 'aunty', 'nurse', 'wisedom', 'causing', 'swelling', 'bigben', 'dopee', 'everywhere', 'drogue_couture', 'bogle', 'burned', 'twice', 'caught', 'tracynova', 'tracy', 'nova', 'orlando', 'conner', 'kill', 'bo', 'quote', 'naked', 'sexy', 'cynical', 'robbin', 'albertoolivo', 'stroll', 'closes', 'uploading', 'buddario', 'suprised', 'mic', 'pretend', 'cheetos', 'smileitsbubbles', 'pasta', 'zadkiel', 'yeah_mate', 'catalogue', 'kylielane', 'andrew', 'tmrw', 'mark_boardman', 'shikhabirdie', 'blaaady', 'rains', 'longbeachbear', 'nooooo', 'bfff', 'zombie', 'sarahblac', 'chap', 'managed', 'together', 'realbillbailey', 'asda', 'cheap', 'laughing', 'mikeescamilla', 'tonyhawk', 'flippin', 'dudes', 'shar', 'an_wandy', 'xunga', 'caribnprincess', 'buying', 'ton', 'bath', 'reorganize', 'bathroom', 'cabinet', 'winner', 'flooding', 'southeast', 'ohio', 'adventure', 'canceled', 'lousy', 'natasha', 'twitterland', 'jhmsince', 'tomorrows', 'eleven', 'salacious', 'sister', 'offic', 'gosh', 'sparkles', 'finishing', 'multitask', 'thatcats', 'jointhebar', 'shank', 'rosemari', 'spicing', 'midi', 'soundfont', 'excellent', 'opened', 'fate', 'cruel', 'filling', 'cravings', 'nachos', 'horchata', 'savagepaul', 'diddum', 'follower', 'fudge', 'fudg', 'bash', 'plymouth', 'insearchofnkotb', 'nyc', 'warbucks', 'haritapatel', 'upside', 'bethefruitbill', 'style', 'madonna', 'specs', 'leaked', 'forum', 'mhz', 'mb', 'ram', 'gb', 'internal', 'fm', 'compass', 'multi', 'tasking', 'shanajaca', 'nightttt', 'peapods', 'nudity', 'involved', 'preatty', 'rtroth', 'shhhh', 'figured', 'cares', 'compliments', 'eddivine', 'eddie', 'twittertubes', 'yaaaaaaaay', 'contuining', 'tal', 'yoga', 'sess', 'borrow', 'tent', 'bags', 'griffin', 'lgt', 'org', 'size', 'imag', 'renovation', 'upstairs', 'bali', 'pictures', 'uploaded', 'tooonico', 'disappointments', 'normally', 'refuses', 'male', 'visitors', 'julian', 'vai', 'sofa', 'jasmine', 'someday', 'brittanytastic', 'kezzien', 'rather', 'close', 'freakin', 'bumped', 'nwistheone', 'large', 'mocha', 'tuna', 'panini', 'caffe', 'aviemor', 'wolfidy', 'voicemails', 'beat', 'heel', 'phplurk', 'whoever', 'nexus', 'hurry', 'auntiep', 'poorly', 'sort', 'morrow', 'mehhhh', 'tweettweet', 'ant', 'bumping', 'jayz', 'presidents', 'travelling', 'compensations', 'northumberland', 'coastline', 'brookeiloveyou', 'robsten', 'lbeezysodmg', 'itouch', 'chriscornell', 'radio', 'sing', 'pose', 'blew', 'crcronin', 'chic', 'licens', 'jester', 'deiknuo', 'cabin', 'pour', 'katiesantry', 'alexandramusic', 'papers', 'ernjoying', 'ogvenoe', 'rocio', 'shoes', 'pissing', 'maintenance', 'posed', 'eff', 'grrr', 'steveguy', 'gotroot', 'prbably', 'macintosh', 'lappy', 'lappi', 'esgaroth', 'gerard', 'butler', 'samtagious', 'sweetie', 'yall', 'brianna_love', 'goanna', 'tot', 'missy', 'pullin', 'double', 'alexbacz', 'hahahahahahaha', 'tara', 'rocket', 'dogs', 'jumped', 'table', 'sgrl', 'laurapasik', 'ddrdiva', 'refuse', 'burn', 'con', 'bitches', 'rushme', 'belindajohnston', 'septic', 'tank', 'backed', 'building', 'poo', 'ga', 'samnicyu', 'barn', 'terirn', 'capitol', 'antsy', 'flaming', 'june', 'rescue', 'tomato', 'laid', 'rach', 'completey', 'agree', 'spa', 'karamarzilli', 'treehous', 'ganun', 'lang', 'preparing', 'hihi', 'jameskobielus', 'flexi', 'visualizations', 'chars', 'fountain', 'oakies', 'football', 'ferrer', 'jammin', 'daft', 'dil', 'perry', 'catemowen', 's_mak', 'request', 'send', 'contact', 'sync', 'tmail', 'maldenic', 'sue_ward', 'yessssssssssssssssssss', 'lizzie', 'els', 'battlestar', 'signing', 'makikigirl', 'elevated', 'perhaps', 'harder', 'museum', 'seat', 'ceannieboy', 'clouds', 'twisource', 'godaddy', 'imprint', 'maths', 'stole', 'sisters', 'protractor', 'phew', 'lancensolomon', 'iamsoannoyed', 'relieve', 'imnickarmstrong', 'fãºtbol', 'scott', 'woooowww', 'canï', 'youï', '½re', 'spain', 'barbecue', 'hunting', 'feed', 'ohnessa', 'trynna', 'pissed', 'mrslocki', 'monicom', 'soxpinkpony', 'prob', 'comp', 'program', 'spit', 'inconsistent', 'entri', 'sirius', 'wrock', 'itun', 'combichrist', 'frumpy', 'nin', 'ja', 'miss_narnia', 'wrote', 'italian', 'fetjuel', 'musashi', 'rep', 'kitaro', 'missin', 'hunni', 'heal', 'twittergadget', 'scripps', 'national', 'spelling', 'bee', 'rerun', 'rachel', 'di', 'mareodomo', 'leopard', 'flash', 'birmingham', 'twilight', 'ashley', 'evieeelove', 'queueâ', 'language', 'pronounced', 'four', 'letters', 'remov', 'mathewhulbert', 'hiyo', 'supernatural', 'klarkekent', 'updating', 'tab', 'teasle', 'sock', 'singa', 'emily', 'humid', 'outsid', 'madsoli', 'pinch', 'mak', 'ladyzonta', 'boogzz', 'milliemillz', 'ladyadrina', 'atabey', 'aileen', 'kati', 'nai', 'wyclef', 'ez', 'calcium', 'melaniefresh', 'whooping', 'lon', 'bubble', 'coach', 'daly', 'wake', 'bake', 'dot', 'mishew', 'eeek', 'villarrealy', 'conan', 'soy', 'dreams', 'cyrus', 'isplayer', 'maryjuanalin', 'issues', 'hogwarts', 'russofans', 'homesick', 'vm', 'hewph', 'fer', 'progress', 'mikesawriter', 'birthdayparti', 'bohemiansunsets', 'sweeti', 'adriennevh', 'link', 'crackberry', 'glendale', 'nsw', 'teressafrancis', 'superstaraj', 'howwww', 'aj', 'iz', 'mist', 'jaw', 'ac', 'mov', 'laurenconrad', 'lauren', 'straightening', 'buttercookies', 'pondering', 'digestive', 'wheat', 'cow', 'dairy', 'ohnoes', 'goat', 'foodfail', 'itsrayj', 'placebo', 'korea', 'aug', 'hiy', 'fellow', 'hurting', 'mrsmerrygoldx', 'summeritme', 'loooooool', 'hannybfirst', 'botse', 'gowing', 'gett', 'boole', 'cinebo', 'six', 'reeeeally', 'alyssa_milano', 'alyssa', 'unit', 'converts', 'biomass', 'fuel', 'travisstone', 'vibe', 'usual', 'frenzi', 'interest', 'ingredients', 'cupcakes', 'alexandrabwi', 'lacey', 'hallambritten', 'kat', 'crappi', 'clairebear', 'misstorinicole', 'waaaah', 'wiii', 'crucifire', 'abhi', 'maine', 'kya', 'kiya', 'burning', 'fanfic', 'fire', 'fro', 'honeystayfly', 'baileemarshall', 'dereuter', 'wors', 'arriv', 'biggc_', 'pushing', 'daisies', 'abandoned', 'beaten', 'mesmerized', 'wild', 'cheesecake', 'factory', 'rotten', 'per', 'persistent', 'push', 'obscure', 'references', 'essays', 'interested', 'aptronym', 'designers', 'list', 'au', 'delivery', 'pricing', 'howev', 'burre', '½or', 'mexican', 'hereeee', 'gameee', 'aim', 'numba', 'stlkr', 'imed', 'scar', 'simultech', 'metrion', 'thecollegerag', 'ut', 'uf', 'handshake', 'tuned', 'sur', 'greatest', 'hits', 'yeeeeah', 'bonniespurple', 'rainyclouds', 'davis', 'bimsenkleider', 'priceyhot', 'chicaog', 'tjt', 'okayy', 'mehh', 'usu', 'vin', 'dodgersn', 'mgt', 'aprils', 'tinkvalentine', 'lucki', 'pdhpe', 'assess', 'propaganda', 'searched', 'piano', 'croaker_uk', 'thurs', 'checked', 'alidaabee', 'devin', 'sist', 'journey', 'emotions', 'hide', 'woe', 'performing', 'atlantis', 'resort', 'bahamas', 'attending', 'taylor', 'keen', 'melissashea', 'hotmail', 'revvell', 'dwld', 'dealing', 'curve', 'chooses', 'ivanae', 'jls', 'veronica', 'pouring', 'indoor', 'leonspencer', 'pending', 'gained', 'cycle', 'puppi', 'dway', 'sf', 'gurlie', 'vivi', 'sinus', 'crying', 'aarrgghhh', 'quiet', 'judges', 'danc', 'beauarmstrong', 'farrah', 'fawcett', 'angel', 'gaga', 'cancelled', 'huge', 'amounts', 'jeopardi', 'belive', 'saudi', 'airlines', 'qeue', 'ktetlucie', 'rollingthedice', 'transformers', 'meets', 'hahahahaha', 'maggiechicken', 'yeap', 'karate', 'lmfao', 'picturing', 'holding', 'lukes', 'tbs', 'settle', 'zagadka', 'thd', 'companyy', 'sherrieshepherd', 'flushing', 'ryansumner', 'recovering', 'andyrpg', 'elinchrom', 'ranger', 'canada', 'stock', 'che', 'gmishra', 'adtr', 'anne', 'bogart', 'svrgn_nation', 'cebu', 'sheepz', 'baka', 'magka', 'identity', 'crisis', 'aso', 'tournament', 'girllss', 'salad', 'prawns', 'seafood', 'feather', 'boa', 'appointments', 'places', 'johnny', 'depp', 'alike', 'hottie', 'beverly', 'mobiustracks', 'concern', 'cushion', 'wedding', 'wooooo', 'canel', 'cak', 'tuning', 'ghost', 'isma', 'perform', 'sotodance', 'herbert', 'babyburrito', 'launch', 'forums', 'connect', 'adorable', 'misstiffanyblue', 'daveredford', 'researching', 'bridesmaids', 'dresses', 'modernlovewedding', 'bridesmaidy', 'hollihigh', 'apologies', 'lalohovis', 'sonicfoundation', 'sniffle', 'kielovesday', 'correctly', 'ahhhhhh', 'honestli', 'massive', 'prayers', 'hugs', 'kidlet', 'raging', 'louise_hendy', 'deffo', 'science', 'final', 'vocab', 'uggg', 'bees', 'subscirbeeee', 'insane', 'hungarian', 'grammar', 'fath', 'diploma', 'kristy', 'seattl', 'difficult', 'channel', 'knw', 'motor', 'cop', 'pull', 'tweep', 'bzy', 'tweeting', 'callalilly', 'kidding', 'clever', 'sajith', 'careful', 'fares', 'tax', 'jngo', 'slides', 'slide', 'match', 'timed', 'forfeiting', 'poring', 'gardening', 'ahhhh', 'verrryyy', 'lawday', 'ilovey', 'liz_', 'heat', 'sunk', 'latino', 'guerrero', 'dumbledore', 'hedwig', 'bleigh', 'hmmmm', 'spanish', 'gringa', 'indonesian', 'string', 'beans', 'yummi', 'exodus', 'misbehavinangel', 'dannygokey', 'danni', 'andy_lamb', 'images', 'santa', 'lamp', 'sovisch', 'succ', 'itsmejlee', 'um', 'vilpponen', 'access', 'flying', 'gem_', 'mainly', 'gf', 'happi', 'racheltielli', 'dirti', 'twitterition', 'peope', 'annisugar', 'blank', 'brimoni', 'sowwyyy', 'kflosworld']\n"
     ]
    }
   ],
   "source": [
    "# your code here\n",
    "from nltk.probability import FreqDist\n",
    "\n",
    "bag = []\n",
    "\n",
    "for row in df['text_processed']:\n",
    "    for word in row:\n",
    "        bag.append(word)\n",
    "\n",
    "bag = nltk.FreqDist(bag)\n",
    "top_words = list(bag.keys())[:5000]\n",
    "print(top_words)"
   ]
  },
  {
   "cell_type": "markdown",
   "metadata": {},
   "source": [
    "### Building Features\n",
    "\n",
    "Now let's build the features. Using the top 5,000 words, create a 2-dimensional matrix to record whether each of those words is contained in each document (tweet). Then you also have an output column to indicate whether the sentiment in each tweet is positive. For example, assuming your bag of words has 5 items (`['one', 'two', 'three', 'four', 'five']`) out of 4 documents (`['A', 'B', 'C', 'D']`), your feature set is essentially:\n",
    "\n",
    "| Doc | one | two | three | four | five | is_positive |\n",
    "|---|---|---|---|---|---|---|\n",
    "| A | True | False | False | True | False | True |\n",
    "| B | False | False | False | True | True | False |\n",
    "| C | False | True | False | False | False | True |\n",
    "| D | True | False | False | False | True | False|\n",
    "\n",
    "However, because the `nltk.NaiveBayesClassifier.train` class we will use in the next step does not work with Pandas dataframe, the structure of your feature set should be converted to the Python list looking like below:\n",
    "\n",
    "```python\n",
    "[\n",
    "\t({\n",
    "\t\t'one': True,\n",
    "\t\t'two': False,\n",
    "\t\t'three': False,\n",
    "\t\t'four': True,\n",
    "\t\t'five': False\n",
    "\t}, True),\n",
    "\t({\n",
    "\t\t'one': False,\n",
    "\t\t'two': False,\n",
    "\t\t'three': False,\n",
    "\t\t'four': True,\n",
    "\t\t'five': True\n",
    "\t}, False),\n",
    "\t({\n",
    "\t\t'one': False,\n",
    "\t\t'two': True,\n",
    "\t\t'three': False,\n",
    "\t\t'four': False,\n",
    "\t\t'five': False\n",
    "\t}, True),\n",
    "\t({\n",
    "\t\t'one': True,\n",
    "\t\t'two': False,\n",
    "\t\t'three': False,\n",
    "\t\t'four': False,\n",
    "\t\t'five': True\n",
    "\t}, False)\n",
    "]\n",
    "```\n",
    "\n",
    "To help you in this step, watch the [following video](https://www.youtube.com/watch?v=-vVskDsHcVc) to learn how to build the feature set with Python and NLTK. The source code in this video can be found [here](https://pythonprogramming.net/words-as-features-nltk-tutorial/)."
   ]
  },
  {
   "cell_type": "markdown",
   "metadata": {},
   "source": [
    "[![Building Features](building-features.jpg)](https://www.youtube.com/watch?v=-vVskDsHcVc)"
   ]
  },
  {
   "cell_type": "code",
   "execution_count": 6,
   "metadata": {},
   "outputs": [
    {
     "data": {
      "application/javascript": [
       "\n",
       "        if (window._pyforest_update_imports_cell) { window._pyforest_update_imports_cell('import numpy as np'); }\n",
       "    "
      ],
      "text/plain": [
       "<IPython.core.display.Javascript object>"
      ]
     },
     "metadata": {},
     "output_type": "display_data"
    }
   ],
   "source": [
    "# your code here\n",
    "def find_features(document):\n",
    "    word = set(document)\n",
    "    return {w:(w in word) for w in top_words}\n",
    "\n",
    "documents = list(zip(df['text_processed'], np.where(df['target'] == 4, True, False)))\n",
    "#documents\n",
    "featuresets = [(find_features(rev), category) for (rev, category) in documents]"
   ]
  },
  {
   "cell_type": "markdown",
   "metadata": {},
   "source": [
    "### Building and Traininng Naive Bayes Model\n",
    "\n",
    "In this step you will split your feature set into a training and a test set. Then you will create a Bayes classifier instance using `nltk.NaiveBayesClassifier.train` ([example](https://www.nltk.org/book/ch06.html)) to train with the training dataset.\n",
    "\n",
    "After training the model, call `classifier.show_most_informative_features()` to inspect the most important features. The output will look like:\n",
    "\n",
    "```\n",
    "Most Informative Features\n",
    "\t    snow = True            False : True   =     34.3 : 1.0\n",
    "\t  easter = True            False : True   =     26.2 : 1.0\n",
    "\t headach = True            False : True   =     20.9 : 1.0\n",
    "\t    argh = True            False : True   =     17.6 : 1.0\n",
    "\tunfortun = True            False : True   =     16.9 : 1.0\n",
    "\t    jona = True             True : False  =     16.2 : 1.0\n",
    "\t     ach = True            False : True   =     14.9 : 1.0\n",
    "\t     sad = True            False : True   =     13.0 : 1.0\n",
    "\t  parent = True            False : True   =     12.9 : 1.0\n",
    "\t  spring = True            False : True   =     12.7 : 1.0\n",
    "```\n",
    "\n",
    "The [following video](https://www.youtube.com/watch?v=rISOsUaTrO4) will help you complete this step. The source code in this video can be found [here](https://pythonprogramming.net/naive-bayes-classifier-nltk-tutorial/)."
   ]
  },
  {
   "cell_type": "markdown",
   "metadata": {},
   "source": [
    "[![Building and Training NB](nb-model-building.jpg)](https://www.youtube.com/watch?v=rISOsUaTrO4)"
   ]
  },
  {
   "cell_type": "code",
   "execution_count": 12,
   "metadata": {},
   "outputs": [],
   "source": [
    "# your code here\n",
    "from nltk import NaiveBayesClassifier\n",
    "from sklearn.model_selection import train_test_split\n",
    "\n",
    "featuresets[0]\n",
    "train_set, test_set = featuresets[2000:], featuresets[:2000]\n",
    "classifier = nltk.NaiveBayesClassifier.train(train_set)"
   ]
  },
  {
   "cell_type": "markdown",
   "metadata": {},
   "source": [
    "### Testing Naive Bayes Model\n",
    "\n",
    "Now we'll test our classifier with the test dataset. This is done by calling `nltk.classify.accuracy(classifier, test)`.\n",
    "\n",
    "As mentioned in one of the tutorial videos, a Naive Bayes model is considered OK if your accuracy score is over 0.6. If your accuracy score is over 0.7, you've done a great job!"
   ]
  },
  {
   "cell_type": "code",
   "execution_count": 13,
   "metadata": {},
   "outputs": [
    {
     "data": {
      "text/plain": [
       "0.7265"
      ]
     },
     "execution_count": 13,
     "metadata": {},
     "output_type": "execute_result"
    }
   ],
   "source": [
    "# your code here\n",
    "nltk.classify.accuracy(classifier, test_set)"
   ]
  },
  {
   "cell_type": "markdown",
   "metadata": {},
   "source": [
    "## Bonus Question 1: Improve Model Performance\n",
    "\n",
    "If you are still not exhausted so far and want to dig deeper, try to improve your classifier performance. There are many aspects you can dig into, for example:\n",
    "\n",
    "* Improve stemming and lemmatization. Inspect your bag of words and the most important features. Are there any words you should furuther remove from analysis? You can append these words to further remove to the stop words list.\n",
    "\n",
    "* Remember we only used the top 5,000 features to build model? Try using different numbers of top features. The bottom line is to use as few features as you can without compromising your model performance. The fewer features you select into your model, the faster your model is trained. Then you can use a larger sample size to improve your model accuracy score."
   ]
  },
  {
   "cell_type": "code",
   "execution_count": 9,
   "metadata": {},
   "outputs": [],
   "source": [
    "# your code here"
   ]
  },
  {
   "cell_type": "markdown",
   "metadata": {},
   "source": [
    "## Bonus Question 2: Machine Learning Pipeline\n",
    "\n",
    "In a new Jupyter Notebook, combine all your codes into a function (or a class). Your new function will execute the complete machine learning pipeline job by receiving the dataset location and output the classifier. This will allow you to use your function to predict the sentiment of any tweet in real time. "
   ]
  },
  {
   "cell_type": "code",
   "execution_count": 10,
   "metadata": {},
   "outputs": [],
   "source": [
    "# your code here"
   ]
  },
  {
   "cell_type": "markdown",
   "metadata": {},
   "source": [
    "## Bonus Question 3: Apache Spark\n",
    "\n",
    "If you have completed the Apache Spark advanced topic lab, what you can do is to migrate your pipeline from local to a Databricks Notebook. Share your notebook with your instructor and classmates to show off your achievements!"
   ]
  },
  {
   "cell_type": "code",
   "execution_count": 11,
   "metadata": {},
   "outputs": [],
   "source": [
    "# your code here"
   ]
  }
 ],
 "metadata": {
  "kernelspec": {
   "display_name": "Python 3 (ipykernel)",
   "language": "python",
   "name": "python3"
  },
  "language_info": {
   "codemirror_mode": {
    "name": "ipython",
    "version": 3
   },
   "file_extension": ".py",
   "mimetype": "text/x-python",
   "name": "python",
   "nbconvert_exporter": "python",
   "pygments_lexer": "ipython3",
   "version": "3.9.10"
  }
 },
 "nbformat": 4,
 "nbformat_minor": 2
}
